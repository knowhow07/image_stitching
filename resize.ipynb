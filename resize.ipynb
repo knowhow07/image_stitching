{
 "cells": [
  {
   "cell_type": "code",
   "execution_count": 4,
   "id": "0ba594ac",
   "metadata": {},
   "outputs": [],
   "source": [
    "import os\n",
    "from PIL import Image\n",
    "\n",
    "# Define resolutions\n",
    "resolutions = [64, 128, 256, 512,1024]\n",
    "\n",
    "# Define input and output folders\n",
    "input_folder = 'inputs'  # <-- Change this to your main input folder\n",
    "output_folder = 'resized_images'  # All resized images will be saved here\n",
    "\n",
    "# Create output folders for each resolution\n",
    "def create_output_dirs():\n",
    "    for res in resolutions:\n",
    "        path = os.path.join(output_folder, str(res))\n",
    "        os.makedirs(path, exist_ok=True)\n",
    "\n",
    "# Function to resize and save images\n",
    "def resize_and_save(input_path, relative_path):\n",
    "    img = Image.open(input_path).convert('RGB')\n",
    "    for res in resolutions:\n",
    "        out_dir = os.path.join(output_folder, str(res), os.path.dirname(relative_path))\n",
    "        os.makedirs(out_dir, exist_ok=True)\n",
    "        out_path = os.path.join(out_dir, os.path.basename(relative_path))\n",
    "        img_resized = img.resize((res, res), Image.LANCZOS)\n",
    "        img_resized.save(out_path)\n",
    "\n",
    "# Main function to process all images\n",
    "def process_images():\n",
    "    create_output_dirs()\n",
    "    for root, _, files in os.walk(input_folder):\n",
    "        for file in files:\n",
    "            if file.lower().endswith(('.png', '.jpg', '.jpeg', '.bmp', '.tiff')):\n",
    "                full_path = os.path.join(root, file)\n",
    "                relative_path = os.path.relpath(full_path, input_folder)\n",
    "                resize_and_save(full_path, relative_path)"
   ]
  },
  {
   "cell_type": "code",
   "execution_count": 5,
   "id": "44d28d2d",
   "metadata": {},
   "outputs": [],
   "source": [
    "process_images()"
   ]
  }
 ],
 "metadata": {
  "kernelspec": {
   "display_name": "Python 3",
   "language": "python",
   "name": "python3"
  },
  "language_info": {
   "codemirror_mode": {
    "name": "ipython",
    "version": 3
   },
   "file_extension": ".py",
   "mimetype": "text/x-python",
   "name": "python",
   "nbconvert_exporter": "python",
   "pygments_lexer": "ipython3",
   "version": "3.7.9"
  }
 },
 "nbformat": 4,
 "nbformat_minor": 5
}
